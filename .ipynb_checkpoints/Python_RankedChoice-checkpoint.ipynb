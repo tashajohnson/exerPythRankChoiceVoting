{
 "cells": [
  {
   "cell_type": "markdown",
   "id": "9b8ae819",
   "metadata": {
    "deletable": false,
    "editable": false,
    "nbgrader": {
     "cell_type": "markdown",
     "checksum": "d4f06e93905994edf7b5c13f8f5de97d",
     "grade": false,
     "grade_id": "cell-235edfe78fa370c1",
     "locked": true,
     "schema_version": 3,
     "solution": false,
     "task": false
    }
   },
   "source": [
    "# Python File Objects"
   ]
  },
  {
   "cell_type": "markdown",
   "id": "85c42de7",
   "metadata": {
    "deletable": false,
    "editable": false,
    "nbgrader": {
     "cell_type": "markdown",
     "checksum": "d101c54ef7c48de3afdfc4904efecd37",
     "grade": false,
     "grade_id": "cell-7268aa2ce589a4d9",
     "locked": true,
     "schema_version": 3,
     "solution": false,
     "task": false
    }
   },
   "source": [
    "### Instructions\n",
    "\n",
    "* Review the tutorial at https://github.com/cmcntsh/exerPythRankChoiceVoting\n",
    "* Complete the programming exercises below.\n",
    "* Delete or comment out the line of code in each cell which says `raise NotImplementedError()` and replace it with your own.\n",
    "\n",
    "### Exercises"
   ]
  },
  {
   "cell_type": "markdown",
   "id": "f8bafd66",
   "metadata": {
    "deletable": false,
    "editable": false,
    "nbgrader": {
     "cell_type": "markdown",
     "checksum": "5091148ded4b0f8bf0450286f68c23c8",
     "grade": false,
     "grade_id": "cell-f7d0b8cf4d4107ad",
     "locked": true,
     "schema_version": 3,
     "solution": false,
     "task": false
    }
   },
   "source": [
    "Enter code in the cell below.\n",
    "\n",
    "* Create a list called `candidates` which has the names of individuals being considered for office."
   ]
  },
  {
   "cell_type": "code",
   "execution_count": null,
   "id": "2bfcafb5",
   "metadata": {
    "deletable": false,
    "nbgrader": {
     "cell_type": "code",
     "checksum": "af45781da1da14b8acf454c3abb9887a",
     "grade": true,
     "grade_id": "cell-fae04f75fccc369b",
     "locked": false,
     "points": 1,
     "schema_version": 3,
     "solution": true,
     "task": false
    }
   },
   "outputs": [],
   "source": [
    "\n",
    "# YOUR CODE HERE\n",
    "raise NotImplementedError()"
   ]
  },
  {
   "cell_type": "markdown",
   "id": "c82cdff7",
   "metadata": {
    "deletable": false,
    "editable": false,
    "nbgrader": {
     "cell_type": "markdown",
     "checksum": "3a75dab73abe903b45ee5cc9f6dae8a6",
     "grade": false,
     "grade_id": "cell-ae113188f0816bdc",
     "locked": true,
     "schema_version": 3,
     "solution": false,
     "task": false
    }
   },
   "source": [
    "Enter code in the cell below.\n",
    "\n",
    "* Create list of simulated ballots: `ballots`\n",
    "* Import the random package.\n",
    "* Create an empty list called `ballots`.\n",
    "* Create a variable called `ballots_count` and assign the number of ballots you want to simulate.\n",
    "* Create simulated ballots by randomly selecting members from the candidates list. (I used the `random.sample()` function from the `random` package.)\n",
    "* Add each simulated ballot to the ballots list so you end up with a list of lists."
   ]
  },
  {
   "cell_type": "code",
   "execution_count": null,
   "id": "49202181",
   "metadata": {
    "deletable": false,
    "nbgrader": {
     "cell_type": "code",
     "checksum": "1aca59e8058dc396d3c0f27a5c65bff4",
     "grade": true,
     "grade_id": "cell-b2ae447ae29164d3",
     "locked": false,
     "points": 2,
     "schema_version": 3,
     "solution": true,
     "task": false
    }
   },
   "outputs": [],
   "source": [
    "\n",
    "# YOUR CODE HERE\n",
    "raise NotImplementedError()"
   ]
  },
  {
   "cell_type": "markdown",
   "id": "24189b14",
   "metadata": {
    "deletable": false,
    "editable": false,
    "nbgrader": {
     "cell_type": "markdown",
     "checksum": "05ab8d6098c7064b1f1f97098aa33aae",
     "grade": false,
     "grade_id": "cell-255dfa90ee79df93",
     "locked": true,
     "schema_version": 3,
     "solution": false,
     "task": false
    }
   },
   "source": [
    "Enter code in the cell below.\n",
    "\n",
    "* Create a function called `counts` which accepts a parameter called `ballotsList`.\n",
    "* This function will accept a list of ballots and calculate counts from the first choice on each ballot and store count totals for candidates in a dictionary using the name of the candidate as the key and the number of votes as the value.\n",
    "* Have the function create an empty dictionary called `results`.\n",
    "* Loop through the ballots in the list `ballotsList`.\n",
    "  * If there is no ballot, continue to the next step.\n",
    "  * If the first name in the ballot is NOT found in the dictionary results, add the name to the dictionary and set the count to 1.\n",
    "  * If the first name in the ballot is found in the dictionary results, increment the count for that name up by 1.\n",
    "* return the dictionary `results`."
   ]
  },
  {
   "cell_type": "code",
   "execution_count": null,
   "id": "104c1b4b",
   "metadata": {
    "deletable": false,
    "nbgrader": {
     "cell_type": "code",
     "checksum": "49313cb883695b8e6075ae86c4e89b0e",
     "grade": true,
     "grade_id": "cell-6314d25eb8be8ebe",
     "locked": false,
     "points": 2,
     "schema_version": 3,
     "solution": true,
     "task": false
    }
   },
   "outputs": [],
   "source": [
    "\n",
    "# YOUR CODE HERE\n",
    "raise NotImplementedError()"
   ]
  },
  {
   "cell_type": "markdown",
   "id": "590e9dd4",
   "metadata": {
    "deletable": false,
    "editable": false,
    "nbgrader": {
     "cell_type": "markdown",
     "checksum": "2425d2386b56152c071f32a518b7e028",
     "grade": false,
     "grade_id": "cell-b1d82be8ca04e090",
     "locked": true,
     "schema_version": 3,
     "solution": false,
     "task": false
    }
   },
   "source": [
    "Enter code in the cell below.\n",
    "\n",
    "* Create a function called `create_report` which accepts a parameter called `dict`.\n",
    "* This function will accept a dictionary with candidate names as keys and counts of votes for each candidate as values and generate text of a summary report for some select results.\n",
    "* Have the function include text for the value for the lowest count using the format `low count: [value]` on a separate line.\n",
    "* Have the function include text for a list of the names that have the low count using the format `remove: [list]` on a separate line.\n",
    "* Have the function include text for the value for the highest count using the format `high count: [value]` on a separate line.\n",
    "* Have the function include text for a list of the names that have the high count using the format `lead: [list]` on a separate line.\n",
    "* return the text for the report."
   ]
  },
  {
   "cell_type": "code",
   "execution_count": null,
   "id": "bc642e7b",
   "metadata": {
    "deletable": false,
    "nbgrader": {
     "cell_type": "code",
     "checksum": "a211528c05226181a469c5ec198d1a42",
     "grade": true,
     "grade_id": "cell-c3f823e9bbf1da41",
     "locked": false,
     "points": 2,
     "schema_version": 3,
     "solution": true,
     "task": false
    }
   },
   "outputs": [],
   "source": [
    "\n",
    "# YOUR CODE HERE\n",
    "raise NotImplementedError()"
   ]
  },
  {
   "cell_type": "markdown",
   "id": "e82ab239",
   "metadata": {
    "deletable": false,
    "editable": false,
    "nbgrader": {
     "cell_type": "markdown",
     "checksum": "0bd6fb1d980cf352141f1e88dd1c000f",
     "grade": false,
     "grade_id": "cell-0f48b25518d59d00",
     "locked": true,
     "schema_version": 3,
     "solution": false,
     "task": false
    }
   },
   "source": [
    "Enter code in the cell below.\n",
    "\n",
    "* Create a function called `key_list` which accepts parameters called `dict` and `num`.\n",
    "* This function will accept a dictionary with candidate names as keys and counts of votes for each candidate and a number value and generate a list of names from the dictionary keys which have a value which matches the number submitted as a parameter.\n",
    "  * Create an empty list called `names`.\n",
    "  * Loop through the dictionary keys and values.\n",
    "  * If the value for a key matches the value for `num`, add the dictionary key to the list names.\n",
    "* return the list `names`."
   ]
  },
  {
   "cell_type": "code",
   "execution_count": null,
   "id": "60abe392",
   "metadata": {
    "deletable": false,
    "nbgrader": {
     "cell_type": "code",
     "checksum": "befc2784242b40a6f120f4203f55f746",
     "grade": true,
     "grade_id": "cell-5f100e1e18ff2255",
     "locked": false,
     "points": 2,
     "schema_version": 3,
     "solution": true,
     "task": false
    }
   },
   "outputs": [],
   "source": [
    "\n",
    "# YOUR CODE HERE\n",
    "raise NotImplementedError()"
   ]
  },
  {
   "cell_type": "markdown",
   "id": "5adaea35",
   "metadata": {
    "deletable": false,
    "editable": false,
    "nbgrader": {
     "cell_type": "markdown",
     "checksum": "2ec7cabebfdaed6c3f3d0c6520fb241a",
     "grade": false,
     "grade_id": "cell-889f8538da0101a3",
     "locked": true,
     "schema_version": 3,
     "solution": false,
     "task": false
    }
   },
   "source": [
    "Enter code in the cell below.\n",
    "\n",
    "* Create a function called `drop_low` which accepts parameters called `ballots_list` and `remove_list`.\n",
    "* This function will accept a list of ballots and a list of names to remove from `ballots`, create a copy of the list of ballots, and remove names on `remove_list` from the copy of `ballots_list`.\n",
    "* Import the copy package.\n",
    "  * Create a deep copy of `ballots_list` called `copy_list`. (A deep copy of a list allows you to make changes to the copy without affecting the original.)\n",
    "  * Loop through the ballots in `copy_list` and remove each name in `remove_list` from the ballots in `copy_list`.\n",
    "* return the list `copy_list`."
   ]
  },
  {
   "cell_type": "code",
   "execution_count": null,
   "id": "b566c49a",
   "metadata": {
    "deletable": false,
    "nbgrader": {
     "cell_type": "code",
     "checksum": "3f74cbd034f87be28bb77c2c3d72e38b",
     "grade": true,
     "grade_id": "cell-f54b96df5d2391ab",
     "locked": false,
     "points": 2,
     "schema_version": 3,
     "solution": true,
     "task": false
    }
   },
   "outputs": [],
   "source": [
    "\n",
    "# YOUR CODE HERE\n",
    "raise NotImplementedError()"
   ]
  },
  {
   "cell_type": "markdown",
   "id": "25410416",
   "metadata": {
    "deletable": false,
    "editable": false,
    "nbgrader": {
     "cell_type": "markdown",
     "checksum": "89ea97d11966bb09f566a0ddb24fb44e",
     "grade": false,
     "grade_id": "cell-87211dbc107174bf",
     "locked": true,
     "schema_version": 3,
     "solution": false,
     "task": false
    }
   },
   "source": [
    "Enter code in the cell below.\n",
    "\n",
    "* Print a list of the candidates using the format `The candidates are: ` and a list of the candidates.\n",
    "* Print the total number of ballots using the format `total ballots: [value]`.\n",
    "* Determin how many votes are needed to win and assign that number to a variable named `majority` and print the result using the format `needed to win: [value]`."
   ]
  },
  {
   "cell_type": "code",
   "execution_count": null,
   "id": "36220e32",
   "metadata": {
    "deletable": false,
    "nbgrader": {
     "cell_type": "code",
     "checksum": "4f08e2984a163d914549b992cac0c2a2",
     "grade": true,
     "grade_id": "cell-481114710573767b",
     "locked": false,
     "points": 2,
     "schema_version": 3,
     "solution": true,
     "task": false
    }
   },
   "outputs": [],
   "source": [
    "\n",
    "# YOUR CODE HERE\n",
    "raise NotImplementedError()"
   ]
  },
  {
   "cell_type": "markdown",
   "id": "ce5de0ed",
   "metadata": {
    "deletable": false,
    "editable": false,
    "nbgrader": {
     "cell_type": "markdown",
     "checksum": "0298c05cfd2c7fe96639d13c59798e2e",
     "grade": false,
     "grade_id": "cell-3371d96293306183",
     "locked": true,
     "schema_version": 3,
     "solution": false,
     "task": false
    }
   },
   "source": [
    "Enter code in the cell below.\n",
    "\n",
    "* Create a variable called `winner` which is an empty string.\n",
    "* Create a variable called `round` and give it a starting value of 1.\n",
    "* Create an empty list called `adjusted_ballots`.\n",
    "* Append the list `ballots` into `adjusted_ballots`.\n",
    "* Create a while loop which runs while the variable `winner` is empty.\n",
    "  * Count the ballots.\n",
    "    * Hint: `results = counts(adjusted_ballots[(round-1)])`\n",
    "  * Print the results for the round.\n",
    "    * Hint: `report = create_report(results)`\n",
    "  * Check to see if a majority has been reached. If it has, assign the winner.\n",
    "    * Hint: `winner = key_list(results, max(results.values()))`\n",
    "  * If there is no winner, remove candidates with low votes.\n",
    "    * Hint: `adjusted = drop_low(adjusted_ballots[(round-1)],remove_list)`\n",
    "  * Add the latest round of adjusted ballots to the `adjusted_ballots` list.\n",
    "* Print the winner using the format `The winner is: ` and the name of the winner."
   ]
  },
  {
   "cell_type": "code",
   "execution_count": null,
   "id": "fe0aed1d",
   "metadata": {
    "deletable": false,
    "nbgrader": {
     "cell_type": "code",
     "checksum": "bb30ab408a7a3e136fadf9a72e184ca2",
     "grade": true,
     "grade_id": "cell-a35d192a9cc75302",
     "locked": false,
     "points": 3,
     "schema_version": 3,
     "solution": true,
     "task": false
    }
   },
   "outputs": [],
   "source": [
    "\n",
    "# YOUR CODE HERE\n",
    "raise NotImplementedError()"
   ]
  },
  {
   "cell_type": "code",
   "execution_count": null,
   "id": "f2ee18a1",
   "metadata": {},
   "outputs": [],
   "source": []
  }
 ],
 "metadata": {
  "kernelspec": {
   "display_name": "Python 3 (ipykernel)",
   "language": "python",
   "name": "python3"
  },
  "language_info": {
   "codemirror_mode": {
    "name": "ipython",
    "version": 3
   },
   "file_extension": ".py",
   "mimetype": "text/x-python",
   "name": "python",
   "nbconvert_exporter": "python",
   "pygments_lexer": "ipython3",
   "version": "3.9.12"
  }
 },
 "nbformat": 4,
 "nbformat_minor": 5
}
